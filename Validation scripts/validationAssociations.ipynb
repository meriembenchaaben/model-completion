{
  "nbformat": 4,
  "nbformat_minor": 0,
  "metadata": {
    "colab": {
      "provenance": [],
      "collapsed_sections": [
        "FYm2m77oRLY9"
      ]
    },
    "kernelspec": {
      "name": "python3",
      "display_name": "Python 3"
    },
    "language_info": {
      "name": "python"
    }
  },
  "cells": [
    {
      "cell_type": "code",
      "execution_count": null,
      "metadata": {
        "colab": {
          "base_uri": "https://localhost:8080/"
        },
        "id": "7q5B8f5fyU_X",
        "outputId": "76a6cdcf-ab0b-4828-b27d-aa162ee60357"
      },
      "outputs": [
        {
          "output_type": "stream",
          "name": "stdout",
          "text": [
            "Mounted at /content/gdrive\n"
          ]
        }
      ],
      "source": [
        "from google.colab import drive\n",
        "import pandas as pd \n",
        "import gensim\n",
        "from gensim.models import Word2Vec\n",
        "drive.mount('/content/gdrive')"
      ]
    },
    {
      "cell_type": "code",
      "source": [
        "!pip install openai"
      ],
      "metadata": {
        "id": "IJj2iAQBx9D3"
      },
      "execution_count": null,
      "outputs": []
    },
    {
      "cell_type": "code",
      "source": [
        "import pandas as pd \n",
        "df=pd.read_csv('gdrive/My Drive/NIER-ICSE/data/test/dataWithAssociationValidation.csv')\n",
        "df\n",
        "df.dropna(inplace=True)\n",
        "df"
      ],
      "metadata": {
        "id": "t-SuLZu94V21"
      },
      "execution_count": null,
      "outputs": []
    },
    {
      "cell_type": "code",
      "source": [
        "dataframe = pd.DataFrame([], columns = ['sequence', 'package'])\n",
        "package=df.iloc[0]['packageName']\n",
        "seq=[]\n",
        "for i, row in df.iterrows():\n",
        "   \n",
        "    if row['packageName']==package:\n",
        "      seq.append('('+ row['classSource'] +','+ row['assocs'] +','+ row['classTarget'] +')')\n",
        "      \n",
        "    else: \n",
        "      dataframe=dataframe.append({'sequence': seq, 'package': package}, ignore_index=True)\n",
        "      package=df.iloc[i]['packageName']\n",
        "      seq=[]\n",
        "      seq.append('('+ row['classSource'] +','+ row['assocs'] +','+ row['classTarget'] +')')\n",
        "\n",
        "dataframe"
      ],
      "metadata": {
        "id": "f6l0SfrgpppK"
      },
      "execution_count": null,
      "outputs": []
    },
    {
      "cell_type": "code",
      "source": [
        "import random\n",
        "dataframe = pd.DataFrame([], columns = ['sequence', 'package'])\n",
        "package=df.iloc[0]['packageName']\n",
        "seq=[]\n",
        "for i, row in df.iterrows():\n",
        "   \n",
        "    if row['packageName']==package:\n",
        "      seq.append('['+ row['classSource'] +','+ row['classTarget'] +'] => '+ row['assocs'] )\n",
        "      \n",
        "    else: \n",
        "      if len(seq)>3: \n",
        "        seq2= random.sample(seq, 3)\n",
        "      else : \n",
        "        seq2=seq\n",
        "      dataframe=dataframe.append({'sequence': seq2, 'package': package}, ignore_index=True)\n",
        "      package=df.iloc[i]['packageName']\n",
        "      seq=[]\n",
        "      seq.append('['+ row['classSource'] +','+ row['classTarget'] +'] => '+ row['assocs'] )\n",
        "\n",
        "dataframe"
      ],
      "metadata": {
        "id": "DQ2thO64vPiR"
      },
      "execution_count": null,
      "outputs": []
    },
    {
      "cell_type": "code",
      "source": [
        "d=dataframe.sample(7)\n",
        "d"
      ],
      "metadata": {
        "id": "Ok8MPmZG6ZAN"
      },
      "execution_count": null,
      "outputs": []
    },
    {
      "cell_type": "code",
      "source": [
        "data=\"\"\n",
        "for i, row in d.iterrows():\n",
        "  data=data+ \"\\n\" +str(row['sequence'])\n",
        "  \n",
        "data"
      ],
      "metadata": {
        "id": "5oJAxUkR6r1V"
      },
      "execution_count": null,
      "outputs": []
    },
    {
      "cell_type": "markdown",
      "source": [
        "###Prepare missing data"
      ],
      "metadata": {
        "id": "JJmiRwDoIZ8H"
      }
    },
    {
      "cell_type": "code",
      "source": [
        "import random\n",
        "dataframe = pd.DataFrame([], columns = ['sequence', 'package','test'])\n",
        "package=df.iloc[0]['packageName']\n",
        "seq=[]\n",
        "for i, row in df.iterrows():\n",
        "   \n",
        "    if row['packageName']==package:\n",
        "      seq.append('['+ row['classSource'] +','+ row['classTarget'] +'] => '+ row['assocs'] )\n",
        "      \n",
        "    else: \n",
        "      test=seq[len(seq)-1]\n",
        "      if len(seq)>3: \n",
        "        seq2= random.sample(seq[:len(seq)-1], 3)\n",
        "      else : \n",
        "        seq2=seq\n",
        "      dataframe=dataframe.append({'sequence': seq2, 'package': package, 'test' : test}, ignore_index=True)\n",
        "      package=df.iloc[i]['packageName']\n",
        "      seq=[]\n",
        "      seq.append('['+ row['classSource'] +','+ row['classTarget'] +'] => '+ row['assocs'] )\n",
        "\n",
        "dataframe"
      ],
      "metadata": {
        "id": "YRgkhleT7ls7"
      },
      "execution_count": null,
      "outputs": []
    },
    {
      "cell_type": "code",
      "source": [
        "#dataframe.to_csv(\"gdrive/My Drive/NIER-ICSE/data/test/AssociationTestData.csv\")"
      ],
      "metadata": {
        "id": "4jF1go_eImmN"
      },
      "execution_count": null,
      "outputs": []
    },
    {
      "cell_type": "code",
      "source": [
        "dataframe"
      ],
      "metadata": {
        "id": "zGkgS6orsWxx"
      },
      "execution_count": null,
      "outputs": []
    },
    {
      "cell_type": "code",
      "source": [
        "def predictRelation(seq, couple,temp=0.7):\n",
        "    prompt =\"predict association name: \\n'[System,Author] => authors', '[Book,Chapter] => chaps', '[Chapter,Book] => itsbook'\\n'[RoomStructure,RoomTypeHandling] => inherits from', '[Staff,SupportTicketReader] => inherits from', '[Staff,SupportTicketReader] => supportTicketReader'\\n'[TA,Organisation] => organisation', '[Lecturer,Person] => inherits from', '[Organisation,CourseCoordinator] => courseCoordinator'\\n'[And,Equatable] => right', '[Forall,Statement] => inherits from', '[Equality,Comparable] => right'\\n'[Book,Person] => author', '[UoD,Person] => allPersons', '[Person,Loan] => loans'\\n'[Country,Company] => companies', '[Neighborhood,NamedElement] => inherits from', '[Neighborhood,School] => schools'\\n'[Chapter,Section] => sections', '[Selection,BodyElementContainer] => container', '[Schemadoc,Category] => category'\\n'[employee , company] => worksIn, [manager, employee ] =>  supervises'\\n'[person, Home] =>  owns','[car ,driver] => drives '\\n'[personalCustomer, customer] => is', '[order,  customer] =>   places', '[employee, department] =>  worksIn'\\n'[lion, meat] => eats', '[cat, milk] => drinks'\\n\"  +str(seq) +\", \" + str(couple)+ \" =>\" ,\n",
        "\n",
        "    response = openai.Completion.create(\n",
        "        model=\"text-davinci-002\",\n",
        "        prompt=  prompt,\n",
        "        temperature=temp,\n",
        "        max_tokens=1,\n",
        "        top_p=1,\n",
        "        frequency_penalty=0,\n",
        "        presence_penalty=0\n",
        "    )\n",
        "    res = response.choices[0].text\n",
        "    #print( \"[\" +className +\"],[ \" + relatedClass+ \"] =>\" + res)\n",
        "\n",
        "    return res\n",
        "def predictTypeRelation(couples,temp=0.7):\n",
        "\n",
        "    response = openai.Completion.create(\n",
        "        model=\"text-davinci-002\",\n",
        "        prompt=\"What type of associations these concepts have: \\n\\nstudent , person => inheritance\\ncomputer, cpu => composition\\nplane , passenger => no \\nperson , address => association \\naccount , saving => inheritance\\nBank, Atm => composition\\nnurse , bank => no \\nprofessor, student => association \\nprofessor , person => inheritance\\ncontact , address => composition\\ncircle , bank => no \\naccount , checking => inheritance \\ncustomer , account => association\\nbook , paper => composition\\nbook , doctor => no \\nlion , meat => association \\nlion , salad => no \\nmammal , dog => inheritance\\ncustomer, order => association\\naddressBook, contact   => composition\\nBank, Atm => composition\\nmanager, employee =>  association\\nplane, manager =>    no\\n\" + str(couples) + '=> ',\n",
        "        temperature=temp,\n",
        "        max_tokens=1,\n",
        "        top_p=1,\n",
        "        frequency_penalty=0,\n",
        "        presence_penalty=0\n",
        "    )\n",
        "    res = response.choices[0].text\n",
        "    return res\n",
        "\n",
        "    "
      ],
      "metadata": {
        "id": "XkTKSFu5sZEq"
      },
      "execution_count": null,
      "outputs": []
    },
    {
      "cell_type": "code",
      "source": [
        "def extractCouple(couples): \n",
        "\n",
        "  elements=couples[couples.find(\"[\")+1:couples.find(\"]\")]\n",
        "  return elements.split(':')"
      ],
      "metadata": {
        "id": "SDU-ONYTtEwM"
      },
      "execution_count": null,
      "outputs": []
    },
    {
      "cell_type": "code",
      "source": [
        "dataframe['couples']=dataframe['test'].apply(lambda df: extractCouple(df))"
      ],
      "metadata": {
        "id": "jlcBQJGztlps"
      },
      "execution_count": null,
      "outputs": []
    },
    {
      "cell_type": "code",
      "source": [
        "predictRelation(\"['[Waggon,Waggon] => WaggonOrder_Waggon_role_successor', '[Station,Reservation] => Rto_Reservation_role_resTo', '[Reservation,Station] => RFrom_Station_role_fromStation']\",\"['Reservation,Waggon']\")"
      ],
      "metadata": {
        "colab": {
          "base_uri": "https://localhost:8080/",
          "height": 35
        },
        "id": "YbF_N9_5soZB",
        "outputId": "3ee74896-3709-4455-8419-fc857bf612df"
      },
      "execution_count": null,
      "outputs": [
        {
          "output_type": "execute_result",
          "data": {
            "text/plain": [
              "' RW'"
            ],
            "application/vnd.google.colaboratory.intrinsic+json": {
              "type": "string"
            }
          },
          "metadata": {},
          "execution_count": 80
        }
      ]
    },
    {
      "cell_type": "code",
      "source": [
        "predictRelation(dataframe['sequence'][1],dataframe['couples'][1])"
      ],
      "metadata": {
        "colab": {
          "base_uri": "https://localhost:8080/",
          "height": 53
        },
        "id": "uHk6TfzYt7xG",
        "outputId": "d3c7d329-c83d-4665-8153-e0ad8c43029a"
      },
      "execution_count": null,
      "outputs": [
        {
          "output_type": "stream",
          "name": "stdout",
          "text": [
            "['ObjectFlow,ActivityEdge']\n"
          ]
        },
        {
          "output_type": "execute_result",
          "data": {
            "text/plain": [
              "' source'"
            ],
            "application/vnd.google.colaboratory.intrinsic+json": {
              "type": "string"
            }
          },
          "metadata": {},
          "execution_count": 34
        }
      ]
    },
    {
      "cell_type": "code",
      "source": [
        "predictTypeRelation(dataframe['couples'][1])\n"
      ],
      "metadata": {
        "colab": {
          "base_uri": "https://localhost:8080/",
          "height": 53
        },
        "id": "PoCkHj_VySj6",
        "outputId": "ccaf4a57-6efa-4fd2-dac3-e8e6429d887c"
      },
      "execution_count": null,
      "outputs": [
        {
          "output_type": "stream",
          "name": "stdout",
          "text": [
            "['ObjectFlow,ActivityEdge']\n"
          ]
        },
        {
          "output_type": "execute_result",
          "data": {
            "text/plain": [
              "' no'"
            ],
            "application/vnd.google.colaboratory.intrinsic+json": {
              "type": "string"
            }
          },
          "metadata": {},
          "execution_count": 32
        }
      ]
    },
    {
      "cell_type": "code",
      "source": [
        "dataframe['RelationName']=dataframe.apply(lambda df: predictRelation(df['sequence'],df['couples']),axis=1)"
      ],
      "metadata": {
        "id": "TGuFPcMssdWq"
      },
      "execution_count": null,
      "outputs": []
    },
    {
      "cell_type": "code",
      "source": [
        "dataframe['RelationName']"
      ],
      "metadata": {
        "id": "IpoUVHW11qxG"
      },
      "execution_count": null,
      "outputs": []
    },
    {
      "cell_type": "code",
      "source": [
        "dataframe['RElationType']=dataframe.apply(lambda df: predictTypeRelation(df['couples']),axis=1)"
      ],
      "metadata": {
        "id": "1uTXgnwizDT9"
      },
      "execution_count": null,
      "outputs": []
    },
    {
      "cell_type": "code",
      "source": [
        "dataframe"
      ],
      "metadata": {
        "id": "CqRlXUCU1zGn"
      },
      "execution_count": null,
      "outputs": []
    },
    {
      "cell_type": "code",
      "source": [
        "dataframe.to_csv(\"gdrive/My Drive/NIER-ICSE/data/test/AssociationResults.csv\")"
      ],
      "metadata": {
        "id": "WM_FI5mS2s0y"
      },
      "execution_count": null,
      "outputs": []
    },
    {
      "cell_type": "markdown",
      "source": [
        "##Ranking "
      ],
      "metadata": {
        "id": "hTFLo7YTK4vZ"
      }
    },
    {
      "cell_type": "code",
      "source": [
        "dataframe=pd.read_csv(\"gdrive/My Drive/NIER-ICSE/data/test/AssociationResults.csv\")"
      ],
      "metadata": {
        "id": "TbVHJVxkLrKO"
      },
      "execution_count": null,
      "outputs": []
    },
    {
      "cell_type": "code",
      "source": [
        "from numpy import NaN\n",
        "def predictRelation_(seq, couple):\n",
        "\n",
        "    print(couple)\n",
        "    results=[]\n",
        "    prompt =\"predict association name: \\n'[System,Author] => authors', '[Book,Chapter] => chaps', '[Chapter,Book] => itsbook'\\n'[RoomStructure,RoomTypeHandling] => inherits from', '[Staff,SupportTicketReader] => inherits from', '[Staff,SupportTicketReader] => supportTicketReader'\\n'[TA,Organisation] => organisation', '[Lecturer,Person] => inherits from', '[Organisation,CourseCoordinator] => courseCoordinator'\\n'[And,Equatable] => right', '[Forall,Statement] => inherits from', '[Equality,Comparable] => right'\\n'[Book,Person] => author', '[UoD,Person] => allPersons', '[Person,Loan] => loans'\\n'[Country,Company] => companies', '[Neighborhood,NamedElement] => inherits from', '[Neighborhood,School] => schools'\\n'[Chapter,Section] => sections', '[Selection,BodyElementContainer] => container', '[Schemadoc,Category] => category'\\n'[employee , company] => worksIn, [manager, employee ] =>  supervises'\\n'[person, Home] =>  owns','[car ,driver] => drives '\\n'[personalCustomer, customer] => is', '[order,  customer] =>   places', '[employee, department] =>  worksIn'\\n'[lion, meat] => eats', '[cat, milk] => drinks'\\n\"  +str(seq) +\", \" + str(couple)+ \" =>\" ,\n",
        "    try:\n",
        "      for temp in [0.7, 0.8,0.9]:\n",
        "        response = openai.Completion.create(\n",
        "          model=\"text-davinci-002\",\n",
        "          prompt=  prompt,\n",
        "          temperature=temp,\n",
        "          max_tokens=1,\n",
        "          top_p=1,\n",
        "          frequency_penalty=0,\n",
        "          presence_penalty=0\n",
        "        )\n",
        "        res = response.choices[0].text\n",
        "        results.append(res)\n",
        "    except:\n",
        "      print(\"oups\")\n",
        "      return float('NaN')\n",
        "    return results\n",
        "    #print( \"[\" +className +\"],[ \" + relatedClass+ \"] =>\" + res)\n",
        "\n",
        "    \n",
        "def predictTypeRelation_(couples,temp=0.7):\n",
        "    print(couples)\n",
        "\n",
        "    results=[]\n",
        "    try:\n",
        "      for temp in [0.7, 0.8,0.9]:\n",
        "        response = openai.Completion.create(\n",
        "          model=\"text-davinci-002\",\n",
        "          prompt=\"What type of associations these concepts have: \\n\\nstudent , person => inheritance\\ncomputer, cpu => composition\\nplane , passenger => no \\nperson , address => association \\naccount , saving => inheritance\\nBank, Atm => composition\\nnurse , bank => no \\nprofessor, student => association \\nprofessor , person => inheritance\\ncontact , address => composition\\ncircle , bank => no \\naccount , checking => inheritance \\ncustomer , account => association\\nbook , paper => composition\\nbook , doctor => no \\nlion , meat => association \\nlion , salad => no \\nmammal , dog => inheritance\\ncustomer, order => association\\naddressBook, contact   => composition\\nBank, Atm => composition\\nmanager, employee =>  association\\nplane, manager =>    no\\n\" + str(couples) + '=> ',\n",
        "          temperature=temp,\n",
        "          max_tokens=1,\n",
        "          top_p=1,\n",
        "          frequency_penalty=0,\n",
        "          presence_penalty=0\n",
        "      )\n",
        "        res = response.choices[0].text\n",
        "        results.append(res)\n",
        "    except:\n",
        "      print(\"oups\")\n",
        "     \n",
        "      return float('NaN')\n",
        "    return results\n",
        "\n",
        "    "
      ],
      "metadata": {
        "id": "FvHQ4AlaLBY0"
      },
      "execution_count": null,
      "outputs": []
    },
    {
      "cell_type": "code",
      "source": [
        "#dataframe[35:]['RelationType_rank']=dataframe[35:].apply(lambda df: predictTypeRelation_(df['couples']),axis=1)\n",
        "dataframe[32:]['Rank']=dataframe[32:].apply(lambda df: predictRelation_(df['sequence'],df['couples']),axis=1)"
      ],
      "metadata": {
        "id": "d34x9iqcK8eb"
      },
      "execution_count": null,
      "outputs": []
    },
    {
      "cell_type": "code",
      "source": [
        "del dataframe['RelationName_rank']"
      ],
      "metadata": {
        "id": "_xXhe7HtQXM3"
      },
      "execution_count": null,
      "outputs": []
    },
    {
      "cell_type": "code",
      "source": [
        "dataframe.to_csv(\"gdrive/My Drive/NIER-ICSE/data/test/PartialResultsAssociations.csv\")"
      ],
      "metadata": {
        "id": "YSpE3XSh0UC3"
      },
      "execution_count": null,
      "outputs": []
    },
    {
      "cell_type": "markdown",
      "source": [
        "#Metrics"
      ],
      "metadata": {
        "id": "FYm2m77oRLY9"
      }
    },
    {
      "cell_type": "code",
      "source": [
        "dataframe=pd.read_csv(\"gdrive/My Drive/NIER-ICSE/data/test/PartialResultsAssociations.csv\")"
      ],
      "metadata": {
        "id": "QPULVAudRNQA"
      },
      "execution_count": null,
      "outputs": []
    },
    {
      "cell_type": "code",
      "source": [
        "del dataframe[\"Unnamed: 0.1\"]"
      ],
      "metadata": {
        "id": "6WPZGQ3vRUSR"
      },
      "execution_count": null,
      "outputs": []
    },
    {
      "cell_type": "code",
      "source": [
        "def most_frequent(List):\n",
        "    if len(List)>0:\n",
        "      counter = 0\n",
        "      num = List[0]\n",
        "      \n",
        "      for i in List:\n",
        "          curr_frequency = List.count(i)\n",
        "          if(curr_frequency> counter):\n",
        "              counter = curr_frequency\n",
        "              num = i\n",
        " \n",
        "      return num\n",
        "    return float(NaN)"
      ],
      "metadata": {
        "id": "bC8IeC0gD7MK"
      },
      "execution_count": null,
      "outputs": []
    },
    {
      "cell_type": "code",
      "source": [
        "dataframe.fillna(\"[]\",inplace=True)"
      ],
      "metadata": {
        "id": "7YNluzJ0EPb5"
      },
      "execution_count": null,
      "outputs": []
    },
    {
      "cell_type": "code",
      "source": [
        "dataframe['selectedType']=dataframe.apply(lambda df: most_frequent(eval(df['RelationType_rank'])),axis=1)"
      ],
      "metadata": {
        "id": "vI1PPjvXSuOg"
      },
      "execution_count": null,
      "outputs": []
    },
    {
      "cell_type": "code",
      "source": [
        "dataframe['selectedName']=dataframe.apply(lambda df: most_frequent(eval(df['Rank'])),axis=1)"
      ],
      "metadata": {
        "id": "OdyPhim-ImFj"
      },
      "execution_count": null,
      "outputs": []
    },
    {
      "cell_type": "code",
      "source": [
        "def extractAssociationName(text):\n",
        "  return text.split(\"=>\")[1]"
      ],
      "metadata": {
        "id": "sDERZoZLRXsa"
      },
      "execution_count": null,
      "outputs": []
    },
    {
      "cell_type": "code",
      "source": [
        "dataframe['AssociationName_GroundTruth']=dataframe[\"test\"].apply(lambda x : extractAssociationName(x))"
      ],
      "metadata": {
        "id": "dW2CEtGMRiIb"
      },
      "execution_count": null,
      "outputs": []
    },
    {
      "cell_type": "code",
      "source": [
        "def changeType(text):\n",
        "  if text== \" inheritance\":\n",
        "    print(\"yes\")\n",
        "    return \"inherits from\"\n",
        "  return text\n"
      ],
      "metadata": {
        "id": "DK3yEyO9SCZs"
      },
      "execution_count": null,
      "outputs": []
    },
    {
      "cell_type": "code",
      "source": [
        "def changeType_(text):\n",
        "  if text== \" inher\":\n",
        "    print(\"yes\")\n",
        "    return \"inherits from\"\n",
        "  return text\n"
      ],
      "metadata": {
        "id": "7S_q1_RcTzbE"
      },
      "execution_count": null,
      "outputs": []
    },
    {
      "cell_type": "code",
      "source": [
        "dataframe['RElationType'][1]"
      ],
      "metadata": {
        "id": "nWaZ_Q2ZTgD0"
      },
      "execution_count": null,
      "outputs": []
    },
    {
      "cell_type": "code",
      "source": [
        "dataframe['selectedName']=dataframe['selectedName'].apply(lambda x : changeType_(x))"
      ],
      "metadata": {
        "id": "oXTnhcrdT3AK"
      },
      "execution_count": null,
      "outputs": []
    },
    {
      "cell_type": "code",
      "source": [
        "dataframe['selectedType']=dataframe['selectedType'].apply(lambda x : changeType(x))"
      ],
      "metadata": {
        "id": "qPHoSmG9R8P8"
      },
      "execution_count": null,
      "outputs": []
    },
    {
      "cell_type": "code",
      "source": [
        "def checkSimilarity(text,Gt): \n",
        "  if text.strip()==Gt.strip(): \n",
        "    return 1\n",
        "  return 0"
      ],
      "metadata": {
        "id": "lT9NZGJKVP8-"
      },
      "execution_count": null,
      "outputs": []
    },
    {
      "cell_type": "code",
      "source": [
        "dataframe['results']=dataframe.apply(lambda x : checkSimilarity(x[\"selectedName\"], x[\"AssociationName_GroundTruth\"]), axis=1)"
      ],
      "metadata": {
        "id": "8BZcwV52VEHF"
      },
      "execution_count": null,
      "outputs": []
    },
    {
      "cell_type": "code",
      "source": [
        "del dataframe['RElationType']\n",
        "del dataframe['RelationName']"
      ],
      "metadata": {
        "id": "tFzv7payXlFc"
      },
      "execution_count": null,
      "outputs": []
    },
    {
      "cell_type": "code",
      "source": [
        "del dataframe['Unnamed: 0']"
      ],
      "metadata": {
        "id": "o_5ftFycXvdj"
      },
      "execution_count": null,
      "outputs": []
    },
    {
      "cell_type": "code",
      "source": [
        "dataframe"
      ],
      "metadata": {
        "colab": {
          "base_uri": "https://localhost:8080/",
          "height": 1000
        },
        "id": "YqqzPT4nVnXL",
        "outputId": "72174ed0-c735-4da3-e364-1d0d98fb7fa6"
      },
      "execution_count": null,
      "outputs": [
        {
          "output_type": "execute_result",
          "data": {
            "text/plain": [
              "                                             sequence  \\\n",
              "0   ['[ActivityNode,ActivityGroup] => inGroup', '[...   \n",
              "1   ['[Pin,ObjectNode] => inherits from', '[Pin,Ac...   \n",
              "2   ['[CentralBufferNode,ActivityNode] => redefine...   \n",
              "3   ['[LoopNode,InputPin] => input', '[LoopNode,Ac...   \n",
              "4   ['[ExpansionRegion,ActivityEdge] => incoming',...   \n",
              "5   ['[People,Contact] => contacts', '[Office,Cont...   \n",
              "6   ['[Article,Category] => category', '[Section,B...   \n",
              "7   ['[Banker,Party] => inherits from', '[Bank,Con...   \n",
              "8   ['[Unpublished,Author] => authors', '[Proceedi...   \n",
              "9   ['[Book,Author] => auths', '[Book,Chapter] => ...   \n",
              "10                      ['[BookStore,Book] => books']   \n",
              "11  ['[League,Player] => players', '[Alley,Tournam...   \n",
              "12  ['[Boolean,BoolExpr] => left', '[Number,CalcEx...   \n",
              "13  ['[Craft,Order] => rentBy', '[Customer,Order] ...   \n",
              "14  ['[Session,ProgramComitee] => progcomit', '[St...   \n",
              "15  ['[Contact,Address] => homeAddress', '[Contact...   \n",
              "16  ['[Organisation,TA] => ta', '[Evaluation,Cours...   \n",
              "17  ['[Customer,Address] => address', '[Customer,C...   \n",
              "18  ['[Project,Plan] => plans', '[Project,ProjectR...   \n",
              "19  ['[Capture,Parametre] => ListeParametres', '[C...   \n",
              "20  ['[FullEntry,Entry] => inherits from', '[Table...   \n",
              "21  ['[EmphasisValue,ParagraphValue] => inherits f...   \n",
              "22  ['[FieldObject,NamedElement] => inherits from'...   \n",
              "23      ['[EmployeeContainer,Employee] => employees']   \n",
              "24  ['[Member,Family] => familySon', '[Family,Memb...   \n",
              "25  ['[Company,NamedElement] => inherits from', '[...   \n",
              "26  ['[IsLowerThan,BooleanExpression] => inherits ...   \n",
              "27  ['[Man,Person] => friend_with', '[Man,Classroo...   \n",
              "28  ['[ImplicitSet,Variable] => variable', '[Call,...   \n",
              "29  ['[Tournament,Game] => game', '[QualificationP...   \n",
              "30  ['[ServiceEmployee,Appointment] => appointment...   \n",
              "31  ['[UoD,Library] => allLibraries', '[Loan,Perso...   \n",
              "32  ['[MoviesDB,Movie] => movies', '[Movie,Critics...   \n",
              "33  ['[Job,Job] => BossWorker_Job_role_worker', '[...   \n",
              "34  ['[Clerk,SupportTicketReader] => supportTicket...   \n",
              "35  ['[IssueTracker,Product] => products', '[Team,...   \n",
              "36  ['[Waggon,Waggon] => WaggonOrder_Waggon_role_s...   \n",
              "37  ['[AngleUnit,Unit] => inherits from', '[AngleD...   \n",
              "38  ['[UnitPower,Unit] => inherits from', '[UnitLi...   \n",
              "39  ['[University,Course] => courses', '[Course,St...   \n",
              "40  ['[Battery,EnergySource] => inherits from', '[...   \n",
              "41  ['[Person,ModelElement] => inherits from', '[P...   \n",
              "42  ['[ModelElement,ModelElement] => include', '[u...   \n",
              "43  ['[SocialBar,SocialInformation] => information...   \n",
              "\n",
              "                      package  \\\n",
              "0       FundamentalActivities   \n",
              "1             BasicActivities   \n",
              "2      IntermediateActivities   \n",
              "3        StructuredActivities   \n",
              "4   ExtraStructuredActivities   \n",
              "5                 addressbook   \n",
              "6                     article   \n",
              "7                        bank   \n",
              "8                      BibTeX   \n",
              "9                       Books   \n",
              "10           BookStorePackage   \n",
              "11                    bowling   \n",
              "12               calculatrice   \n",
              "13             CarRentalModel   \n",
              "14                       conf   \n",
              "15                   contacts   \n",
              "16                     course   \n",
              "17                  customers   \n",
              "18                    decobat   \n",
              "19                     device   \n",
              "20                   document   \n",
              "21              Documentation   \n",
              "22                     drones   \n",
              "23                  Employees   \n",
              "24                   Families   \n",
              "25                   families   \n",
              "26           farmbot_modeling   \n",
              "27                    Friends   \n",
              "28                       game   \n",
              "29             gametournament   \n",
              "30         hairDressersRegSys   \n",
              "31                    library   \n",
              "32                     movies   \n",
              "33              PersonCompany   \n",
              "34                RootElement   \n",
              "35                    trackit   \n",
              "36                      Train   \n",
              "37                      units   \n",
              "38                units_pc_av   \n",
              "39                 university   \n",
              "40                        wsn   \n",
              "41                 UniverityU   \n",
              "42                uncertainty   \n",
              "43                        web   \n",
              "\n",
              "                                                 test  \\\n",
              "0       [ActivityGroup,NamedElement] => inherits from   \n",
              "1          [ObjectFlow,ActivityEdge] => inherits from   \n",
              "2   [InterruptibleActivityRegion,ActivityGroup] =>...   \n",
              "3   [SequenceNode,StructuredActivityNode] => inher...   \n",
              "4         [ExpansionNode,ObjectNode] => inherits from   \n",
              "5                   [BookVersion,AddressBook] => book   \n",
              "6          [HtmlFormatter,Formatter] => inherits from   \n",
              "7    [OnlineTransaction,Transaction] => inherits from   \n",
              "8         [MasterThesis,ThesisEntry] => inherits from   \n",
              "9                               [Author,Book] => mybs   \n",
              "10                          [BookStore,Book] => books   \n",
              "11                              [Alley,Lane] => lanes   \n",
              "12                [Boolean,BoolExpr] => inherits from   \n",
              "13                [Automobile,Craft] => inherits from   \n",
              "14                [Evaluation,Publication] => evPubli   \n",
              "15               [UoD,AddressBook] => allAddressBooks   \n",
              "16                       [TA,Person] => inherits from   \n",
              "17                [CustomersDB,Customer] => customers   \n",
              "18                   [Object,Library] => libraryItems   \n",
              "19              [Object,EJavaObject] => inherits from   \n",
              "20                [BasicEntry,Entry] => inherits from   \n",
              "21      [InformalTableValueRow,TextualValue] => entry   \n",
              "22     [ImmovableObject,FieldObject] => inherits from   \n",
              "23          [EmployeeContainer,Employee] => employees   \n",
              "24                  [Member,Family] => familyDaughter   \n",
              "25                           [Member,City] => livesIn   \n",
              "26    [TurnOnAnalog,SequenceCommand] => inherits from   \n",
              "27                       [Classroom,Person] => person   \n",
              "28                          [Type,Type] => parameters   \n",
              "29                          [Pool,Gamer] => classment   \n",
              "30                       [Payment,Invoice] => invoice   \n",
              "31                         [UoD,Person] => allPersons   \n",
              "32                              [Copy,Place] => place   \n",
              "33              [Job,Job] => BossWorker_Job_role_boss   \n",
              "34               [Hotel,HotelSystem] => inherits from   \n",
              "35            [Comment,Identifiable] => inherits from   \n",
              "36           [Reservation,Waggon] => ResWaggon_Waggon   \n",
              "37  [QuantityScalarOperation,QuantityOperation] =>...   \n",
              "38        [PerJoinPointScope,EObject] => scopedObject   \n",
              "39                         [Student,Course] => course   \n",
              "40                 [IData,Interface] => inherits from   \n",
              "41          [University,aUniversity] => inherits from   \n",
              "42               [uUniversity,UData] => inherits from   \n",
              "43               [SocialBar,Content] => inherits from   \n",
              "\n",
              "                                          couples  \\\n",
              "0                  ['ActivityGroup,NamedElement']   \n",
              "1                     ['ObjectFlow,ActivityEdge']   \n",
              "2   ['InterruptibleActivityRegion,ActivityGroup']   \n",
              "3         ['SequenceNode,StructuredActivityNode']   \n",
              "4                    ['ExpansionNode,ObjectNode']   \n",
              "5                     ['BookVersion,AddressBook']   \n",
              "6                     ['HtmlFormatter,Formatter']   \n",
              "7               ['OnlineTransaction,Transaction']   \n",
              "8                    ['MasterThesis,ThesisEntry']   \n",
              "9                                 ['Author,Book']   \n",
              "10                             ['BookStore,Book']   \n",
              "11                                 ['Alley,Lane']   \n",
              "12                           ['Boolean,BoolExpr']   \n",
              "13                           ['Automobile,Craft']   \n",
              "14                     ['Evaluation,Publication']   \n",
              "15                            ['UoD,AddressBook']   \n",
              "16                                  ['TA,Person']   \n",
              "17                       ['CustomersDB,Customer']   \n",
              "18                             ['Object,Library']   \n",
              "19                         ['Object,EJavaObject']   \n",
              "20                           ['BasicEntry,Entry']   \n",
              "21         ['InformalTableValueRow,TextualValue']   \n",
              "22                ['ImmovableObject,FieldObject']   \n",
              "23                 ['EmployeeContainer,Employee']   \n",
              "24                              ['Member,Family']   \n",
              "25                                ['Member,City']   \n",
              "26               ['TurnOnAnalog,SequenceCommand']   \n",
              "27                           ['Classroom,Person']   \n",
              "28                                  ['Type,Type']   \n",
              "29                                 ['Pool,Gamer']   \n",
              "30                            ['Payment,Invoice']   \n",
              "31                                 ['UoD,Person']   \n",
              "32                                 ['Copy,Place']   \n",
              "33                                    ['Job,Job']   \n",
              "34                          ['Hotel,HotelSystem']   \n",
              "35                       ['Comment,Identifiable']   \n",
              "36                         ['Reservation,Waggon']   \n",
              "37  ['QuantityScalarOperation,QuantityOperation']   \n",
              "38                  ['PerJoinPointScope,EObject']   \n",
              "39                             ['Student,Course']   \n",
              "40                            ['IData,Interface']   \n",
              "41                     ['University,aUniversity']   \n",
              "42                          ['uUniversity,UData']   \n",
              "43                          ['SocialBar,Content']   \n",
              "\n",
              "                                   RelationType_rank  \\\n",
              "0         [' Inher', ' association', ' association']   \n",
              "1                     [' no', ' no', ' association']   \n",
              "2                     [' no', ' composition', ' no']   \n",
              "3                               [' no', '\\n', ' no']   \n",
              "4                              [' no', ' no', \" ['\"]   \n",
              "5                     [' composition', \" ['\", ' no']   \n",
              "6   [' inheritance', ' composition', ' inheritance']   \n",
              "7   [' inheritance', ' inheritance', ' association']   \n",
              "8   [' association', ' association', ' association']   \n",
              "9   [' association', ' composition', ' association']   \n",
              "10          [' Agg', ' association', ' aggregation']   \n",
              "11                             [' no', \" ['\", ' no']   \n",
              "12                    [' no', ' composition', ' no']   \n",
              "13                             [' no', \" ['\", \" ['\"]   \n",
              "14                              [' no', ' no', '\\n']   \n",
              "15                   [' no', ' association', ' Com']   \n",
              "16                                                []   \n",
              "17  [' association', ' association', ' Association']   \n",
              "18                    [' aggregation', ' no', ' no']   \n",
              "19                    [' no', ' inheritance', ' no']   \n",
              "20  [' association', ' composition', ' inheritance']   \n",
              "21                              [' no', '\\n', ' no']   \n",
              "22           [' association', ' no', ' inheritance']   \n",
              "23  [' composition', ' composition', ' aggregation']   \n",
              "24           [' inheritance', ' association', ' No']   \n",
              "25                             [' no', ' no', ' no']   \n",
              "26                    [\" ['\", ' aggregation', ' no']   \n",
              "27           [' association', ' association', \" ['\"]   \n",
              "28  [' association', ' association', ' association']   \n",
              "29                             [' no', ' no', ' no']   \n",
              "30  [' association', ' association', ' association']   \n",
              "31            [' association', ' association', '\\n']   \n",
              "32                    [' Com', ' composition', '\\n']   \n",
              "33           [' inheritance', ' no', ' inheritance']   \n",
              "34  [' composition', ' composition', ' composition']   \n",
              "35           [' no', ' association', ' association']   \n",
              "36                    [' no', ' no', ' composition']   \n",
              "37                     [' inheritance', '\\n', ' no']   \n",
              "38                           [' no', '\\n\\n', '\\n\\n']   \n",
              "39  [' association', ' association', ' association']   \n",
              "40     [' multiple', ' inheritance', ' inheritance']   \n",
              "41           [' association', ' no', ' association']   \n",
              "42           [' no', ' association', ' association']   \n",
              "43                             [\" ['\", \" ['\", \" ['\"]   \n",
              "\n",
              "                                          Rank   selectedType   selectedName  \\\n",
              "0               [' group', ' super', ' group']    association          group   \n",
              "1                  [' incoming', ' is', ' is']             no             is   \n",
              "2   [' interrupt', ' interrupt', ' interrupt']             no      interrupt   \n",
              "3                [' edge', ' edge', ' nested']             no           edge   \n",
              "4                          [' in', ' ', ' in']             no             in   \n",
              "5               [' uses', ' uses', ' address']    composition           uses   \n",
              "6                  [' form', ' form', ' form']  inherits from           form   \n",
              "7       [' inher', ' online', ' transactions']  inherits from  inherits from   \n",
              "8               [' inher', ' inher', ' inher']    association  inherits from   \n",
              "9                  [' auth', ' writes', \" ['\"]    association           auth   \n",
              "10              [' sells', ' sells', ' sells']            Agg          sells   \n",
              "11              [' lanes', ' lanes', ' lanes']             no          lanes   \n",
              "12              [' right', ' right', ' right']             no          right   \n",
              "13            [' produces', ' craft', ' used']             ['       produces   \n",
              "14  [' evaluates', ' evaluates', ' evaluates']             no      evaluates   \n",
              "15         [' address', ' stores', ' address']             no        address   \n",
              "16                         [\" '\", ' ta', \" '\"]            NaN              '   \n",
              "17       [' customer', ' customer', ' stores']    association       customer   \n",
              "18            [' inher', ' library', ' inher']             no  inherits from   \n",
              "19              [' right', ' right', ' inher']             no          right   \n",
              "20              [' inher', ' inher', ' inher']    association  inherits from   \n",
              "21                [' body', ' inher', ' body']             no           body   \n",
              "22                 [' inher', ' inher', \" ['\"]    association  inherits from   \n",
              "23       [' employees', ' contains', ' inher']    composition      employees   \n",
              "24           [' family', ' family', ' family']  inherits from         family   \n",
              "25                 [' city', ' city', ' city']             no           city   \n",
              "26              [' inher', ' inher', ' inher']             ['  inherits from   \n",
              "27      [' student', ' students', ' students']    association       students   \n",
              "28                   [' is', ' left', ' type']    association             is   \n",
              "29           [' gamers', ' gamers', ' gamers']             no         gamers   \n",
              "30        [' invoice', ' invoice', ' invoice']    association        invoice   \n",
              "31                    [' all', ' all', ' all']    association            all   \n",
              "32                         [' in', \" '\", \" '\"]            Com              '   \n",
              "33                 [' Boss', ' Boss', ' Boss']  inherits from           Boss   \n",
              "34                 [' uses', ' uses', ' uses']    composition           uses   \n",
              "35  [' commented', ' commenting', ' comments']    association      commented   \n",
              "36                          [' R', ' R', ' R']             no              R   \n",
              "37                  [' rh', ' left', ' right']  inherits from             rh   \n",
              "38        [' scope', ' children', ' children']           \\n\\n       children   \n",
              "39       [' enrolled', ' student', ' courses']    association       enrolled   \n",
              "40              [' inher', ' inher', ' inher']  inherits from  inherits from   \n",
              "41           [' students', \" ['\", ' students']    association       students   \n",
              "42                       [' uses', ' u', \" '\"]    association           uses   \n",
              "43        [' contains', ' inher', ' contains']             ['       contains   \n",
              "\n",
              "   AssociationName_GroundTruth  \n",
              "0                inherits from  \n",
              "1                inherits from  \n",
              "2                inherits from  \n",
              "3                inherits from  \n",
              "4                inherits from  \n",
              "5                         book  \n",
              "6                inherits from  \n",
              "7                inherits from  \n",
              "8                inherits from  \n",
              "9                         mybs  \n",
              "10                       books  \n",
              "11                       lanes  \n",
              "12               inherits from  \n",
              "13               inherits from  \n",
              "14                     evPubli  \n",
              "15             allAddressBooks  \n",
              "16               inherits from  \n",
              "17                   customers  \n",
              "18                libraryItems  \n",
              "19               inherits from  \n",
              "20               inherits from  \n",
              "21                       entry  \n",
              "22               inherits from  \n",
              "23                   employees  \n",
              "24              familyDaughter  \n",
              "25                     livesIn  \n",
              "26               inherits from  \n",
              "27                      person  \n",
              "28                  parameters  \n",
              "29                   classment  \n",
              "30                     invoice  \n",
              "31                  allPersons  \n",
              "32                       place  \n",
              "33    BossWorker_Job_role_boss  \n",
              "34               inherits from  \n",
              "35               inherits from  \n",
              "36            ResWaggon_Waggon  \n",
              "37               inherits from  \n",
              "38                scopedObject  \n",
              "39                      course  \n",
              "40               inherits from  \n",
              "41               inherits from  \n",
              "42               inherits from  \n",
              "43               inherits from  "
            ],
            "text/html": [
              "\n",
              "  <div id=\"df-4fd8ee19-24ac-4ded-8d2d-a754d3ed9ecc\">\n",
              "    <div class=\"colab-df-container\">\n",
              "      <div>\n",
              "<style scoped>\n",
              "    .dataframe tbody tr th:only-of-type {\n",
              "        vertical-align: middle;\n",
              "    }\n",
              "\n",
              "    .dataframe tbody tr th {\n",
              "        vertical-align: top;\n",
              "    }\n",
              "\n",
              "    .dataframe thead th {\n",
              "        text-align: right;\n",
              "    }\n",
              "</style>\n",
              "<table border=\"1\" class=\"dataframe\">\n",
              "  <thead>\n",
              "    <tr style=\"text-align: right;\">\n",
              "      <th></th>\n",
              "      <th>sequence</th>\n",
              "      <th>package</th>\n",
              "      <th>test</th>\n",
              "      <th>couples</th>\n",
              "      <th>RelationType_rank</th>\n",
              "      <th>Rank</th>\n",
              "      <th>selectedType</th>\n",
              "      <th>selectedName</th>\n",
              "      <th>AssociationName_GroundTruth</th>\n",
              "    </tr>\n",
              "  </thead>\n",
              "  <tbody>\n",
              "    <tr>\n",
              "      <th>0</th>\n",
              "      <td>['[ActivityNode,ActivityGroup] =&gt; inGroup', '[...</td>\n",
              "      <td>FundamentalActivities</td>\n",
              "      <td>[ActivityGroup,NamedElement] =&gt; inherits from</td>\n",
              "      <td>['ActivityGroup,NamedElement']</td>\n",
              "      <td>[' Inher', ' association', ' association']</td>\n",
              "      <td>[' group', ' super', ' group']</td>\n",
              "      <td>association</td>\n",
              "      <td>group</td>\n",
              "      <td>inherits from</td>\n",
              "    </tr>\n",
              "    <tr>\n",
              "      <th>1</th>\n",
              "      <td>['[Pin,ObjectNode] =&gt; inherits from', '[Pin,Ac...</td>\n",
              "      <td>BasicActivities</td>\n",
              "      <td>[ObjectFlow,ActivityEdge] =&gt; inherits from</td>\n",
              "      <td>['ObjectFlow,ActivityEdge']</td>\n",
              "      <td>[' no', ' no', ' association']</td>\n",
              "      <td>[' incoming', ' is', ' is']</td>\n",
              "      <td>no</td>\n",
              "      <td>is</td>\n",
              "      <td>inherits from</td>\n",
              "    </tr>\n",
              "    <tr>\n",
              "      <th>2</th>\n",
              "      <td>['[CentralBufferNode,ActivityNode] =&gt; redefine...</td>\n",
              "      <td>IntermediateActivities</td>\n",
              "      <td>[InterruptibleActivityRegion,ActivityGroup] =&gt;...</td>\n",
              "      <td>['InterruptibleActivityRegion,ActivityGroup']</td>\n",
              "      <td>[' no', ' composition', ' no']</td>\n",
              "      <td>[' interrupt', ' interrupt', ' interrupt']</td>\n",
              "      <td>no</td>\n",
              "      <td>interrupt</td>\n",
              "      <td>inherits from</td>\n",
              "    </tr>\n",
              "    <tr>\n",
              "      <th>3</th>\n",
              "      <td>['[LoopNode,InputPin] =&gt; input', '[LoopNode,Ac...</td>\n",
              "      <td>StructuredActivities</td>\n",
              "      <td>[SequenceNode,StructuredActivityNode] =&gt; inher...</td>\n",
              "      <td>['SequenceNode,StructuredActivityNode']</td>\n",
              "      <td>[' no', '\\n', ' no']</td>\n",
              "      <td>[' edge', ' edge', ' nested']</td>\n",
              "      <td>no</td>\n",
              "      <td>edge</td>\n",
              "      <td>inherits from</td>\n",
              "    </tr>\n",
              "    <tr>\n",
              "      <th>4</th>\n",
              "      <td>['[ExpansionRegion,ActivityEdge] =&gt; incoming',...</td>\n",
              "      <td>ExtraStructuredActivities</td>\n",
              "      <td>[ExpansionNode,ObjectNode] =&gt; inherits from</td>\n",
              "      <td>['ExpansionNode,ObjectNode']</td>\n",
              "      <td>[' no', ' no', \" ['\"]</td>\n",
              "      <td>[' in', ' ', ' in']</td>\n",
              "      <td>no</td>\n",
              "      <td>in</td>\n",
              "      <td>inherits from</td>\n",
              "    </tr>\n",
              "    <tr>\n",
              "      <th>5</th>\n",
              "      <td>['[People,Contact] =&gt; contacts', '[Office,Cont...</td>\n",
              "      <td>addressbook</td>\n",
              "      <td>[BookVersion,AddressBook] =&gt; book</td>\n",
              "      <td>['BookVersion,AddressBook']</td>\n",
              "      <td>[' composition', \" ['\", ' no']</td>\n",
              "      <td>[' uses', ' uses', ' address']</td>\n",
              "      <td>composition</td>\n",
              "      <td>uses</td>\n",
              "      <td>book</td>\n",
              "    </tr>\n",
              "    <tr>\n",
              "      <th>6</th>\n",
              "      <td>['[Article,Category] =&gt; category', '[Section,B...</td>\n",
              "      <td>article</td>\n",
              "      <td>[HtmlFormatter,Formatter] =&gt; inherits from</td>\n",
              "      <td>['HtmlFormatter,Formatter']</td>\n",
              "      <td>[' inheritance', ' composition', ' inheritance']</td>\n",
              "      <td>[' form', ' form', ' form']</td>\n",
              "      <td>inherits from</td>\n",
              "      <td>form</td>\n",
              "      <td>inherits from</td>\n",
              "    </tr>\n",
              "    <tr>\n",
              "      <th>7</th>\n",
              "      <td>['[Banker,Party] =&gt; inherits from', '[Bank,Con...</td>\n",
              "      <td>bank</td>\n",
              "      <td>[OnlineTransaction,Transaction] =&gt; inherits from</td>\n",
              "      <td>['OnlineTransaction,Transaction']</td>\n",
              "      <td>[' inheritance', ' inheritance', ' association']</td>\n",
              "      <td>[' inher', ' online', ' transactions']</td>\n",
              "      <td>inherits from</td>\n",
              "      <td>inherits from</td>\n",
              "      <td>inherits from</td>\n",
              "    </tr>\n",
              "    <tr>\n",
              "      <th>8</th>\n",
              "      <td>['[Unpublished,Author] =&gt; authors', '[Proceedi...</td>\n",
              "      <td>BibTeX</td>\n",
              "      <td>[MasterThesis,ThesisEntry] =&gt; inherits from</td>\n",
              "      <td>['MasterThesis,ThesisEntry']</td>\n",
              "      <td>[' association', ' association', ' association']</td>\n",
              "      <td>[' inher', ' inher', ' inher']</td>\n",
              "      <td>association</td>\n",
              "      <td>inherits from</td>\n",
              "      <td>inherits from</td>\n",
              "    </tr>\n",
              "    <tr>\n",
              "      <th>9</th>\n",
              "      <td>['[Book,Author] =&gt; auths', '[Book,Chapter] =&gt; ...</td>\n",
              "      <td>Books</td>\n",
              "      <td>[Author,Book] =&gt; mybs</td>\n",
              "      <td>['Author,Book']</td>\n",
              "      <td>[' association', ' composition', ' association']</td>\n",
              "      <td>[' auth', ' writes', \" ['\"]</td>\n",
              "      <td>association</td>\n",
              "      <td>auth</td>\n",
              "      <td>mybs</td>\n",
              "    </tr>\n",
              "    <tr>\n",
              "      <th>10</th>\n",
              "      <td>['[BookStore,Book] =&gt; books']</td>\n",
              "      <td>BookStorePackage</td>\n",
              "      <td>[BookStore,Book] =&gt; books</td>\n",
              "      <td>['BookStore,Book']</td>\n",
              "      <td>[' Agg', ' association', ' aggregation']</td>\n",
              "      <td>[' sells', ' sells', ' sells']</td>\n",
              "      <td>Agg</td>\n",
              "      <td>sells</td>\n",
              "      <td>books</td>\n",
              "    </tr>\n",
              "    <tr>\n",
              "      <th>11</th>\n",
              "      <td>['[League,Player] =&gt; players', '[Alley,Tournam...</td>\n",
              "      <td>bowling</td>\n",
              "      <td>[Alley,Lane] =&gt; lanes</td>\n",
              "      <td>['Alley,Lane']</td>\n",
              "      <td>[' no', \" ['\", ' no']</td>\n",
              "      <td>[' lanes', ' lanes', ' lanes']</td>\n",
              "      <td>no</td>\n",
              "      <td>lanes</td>\n",
              "      <td>lanes</td>\n",
              "    </tr>\n",
              "    <tr>\n",
              "      <th>12</th>\n",
              "      <td>['[Boolean,BoolExpr] =&gt; left', '[Number,CalcEx...</td>\n",
              "      <td>calculatrice</td>\n",
              "      <td>[Boolean,BoolExpr] =&gt; inherits from</td>\n",
              "      <td>['Boolean,BoolExpr']</td>\n",
              "      <td>[' no', ' composition', ' no']</td>\n",
              "      <td>[' right', ' right', ' right']</td>\n",
              "      <td>no</td>\n",
              "      <td>right</td>\n",
              "      <td>inherits from</td>\n",
              "    </tr>\n",
              "    <tr>\n",
              "      <th>13</th>\n",
              "      <td>['[Craft,Order] =&gt; rentBy', '[Customer,Order] ...</td>\n",
              "      <td>CarRentalModel</td>\n",
              "      <td>[Automobile,Craft] =&gt; inherits from</td>\n",
              "      <td>['Automobile,Craft']</td>\n",
              "      <td>[' no', \" ['\", \" ['\"]</td>\n",
              "      <td>[' produces', ' craft', ' used']</td>\n",
              "      <td>['</td>\n",
              "      <td>produces</td>\n",
              "      <td>inherits from</td>\n",
              "    </tr>\n",
              "    <tr>\n",
              "      <th>14</th>\n",
              "      <td>['[Session,ProgramComitee] =&gt; progcomit', '[St...</td>\n",
              "      <td>conf</td>\n",
              "      <td>[Evaluation,Publication] =&gt; evPubli</td>\n",
              "      <td>['Evaluation,Publication']</td>\n",
              "      <td>[' no', ' no', '\\n']</td>\n",
              "      <td>[' evaluates', ' evaluates', ' evaluates']</td>\n",
              "      <td>no</td>\n",
              "      <td>evaluates</td>\n",
              "      <td>evPubli</td>\n",
              "    </tr>\n",
              "    <tr>\n",
              "      <th>15</th>\n",
              "      <td>['[Contact,Address] =&gt; homeAddress', '[Contact...</td>\n",
              "      <td>contacts</td>\n",
              "      <td>[UoD,AddressBook] =&gt; allAddressBooks</td>\n",
              "      <td>['UoD,AddressBook']</td>\n",
              "      <td>[' no', ' association', ' Com']</td>\n",
              "      <td>[' address', ' stores', ' address']</td>\n",
              "      <td>no</td>\n",
              "      <td>address</td>\n",
              "      <td>allAddressBooks</td>\n",
              "    </tr>\n",
              "    <tr>\n",
              "      <th>16</th>\n",
              "      <td>['[Organisation,TA] =&gt; ta', '[Evaluation,Cours...</td>\n",
              "      <td>course</td>\n",
              "      <td>[TA,Person] =&gt; inherits from</td>\n",
              "      <td>['TA,Person']</td>\n",
              "      <td>[]</td>\n",
              "      <td>[\" '\", ' ta', \" '\"]</td>\n",
              "      <td>NaN</td>\n",
              "      <td>'</td>\n",
              "      <td>inherits from</td>\n",
              "    </tr>\n",
              "    <tr>\n",
              "      <th>17</th>\n",
              "      <td>['[Customer,Address] =&gt; address', '[Customer,C...</td>\n",
              "      <td>customers</td>\n",
              "      <td>[CustomersDB,Customer] =&gt; customers</td>\n",
              "      <td>['CustomersDB,Customer']</td>\n",
              "      <td>[' association', ' association', ' Association']</td>\n",
              "      <td>[' customer', ' customer', ' stores']</td>\n",
              "      <td>association</td>\n",
              "      <td>customer</td>\n",
              "      <td>customers</td>\n",
              "    </tr>\n",
              "    <tr>\n",
              "      <th>18</th>\n",
              "      <td>['[Project,Plan] =&gt; plans', '[Project,ProjectR...</td>\n",
              "      <td>decobat</td>\n",
              "      <td>[Object,Library] =&gt; libraryItems</td>\n",
              "      <td>['Object,Library']</td>\n",
              "      <td>[' aggregation', ' no', ' no']</td>\n",
              "      <td>[' inher', ' library', ' inher']</td>\n",
              "      <td>no</td>\n",
              "      <td>inherits from</td>\n",
              "      <td>libraryItems</td>\n",
              "    </tr>\n",
              "    <tr>\n",
              "      <th>19</th>\n",
              "      <td>['[Capture,Parametre] =&gt; ListeParametres', '[C...</td>\n",
              "      <td>device</td>\n",
              "      <td>[Object,EJavaObject] =&gt; inherits from</td>\n",
              "      <td>['Object,EJavaObject']</td>\n",
              "      <td>[' no', ' inheritance', ' no']</td>\n",
              "      <td>[' right', ' right', ' inher']</td>\n",
              "      <td>no</td>\n",
              "      <td>right</td>\n",
              "      <td>inherits from</td>\n",
              "    </tr>\n",
              "    <tr>\n",
              "      <th>20</th>\n",
              "      <td>['[FullEntry,Entry] =&gt; inherits from', '[Table...</td>\n",
              "      <td>document</td>\n",
              "      <td>[BasicEntry,Entry] =&gt; inherits from</td>\n",
              "      <td>['BasicEntry,Entry']</td>\n",
              "      <td>[' association', ' composition', ' inheritance']</td>\n",
              "      <td>[' inher', ' inher', ' inher']</td>\n",
              "      <td>association</td>\n",
              "      <td>inherits from</td>\n",
              "      <td>inherits from</td>\n",
              "    </tr>\n",
              "    <tr>\n",
              "      <th>21</th>\n",
              "      <td>['[EmphasisValue,ParagraphValue] =&gt; inherits f...</td>\n",
              "      <td>Documentation</td>\n",
              "      <td>[InformalTableValueRow,TextualValue] =&gt; entry</td>\n",
              "      <td>['InformalTableValueRow,TextualValue']</td>\n",
              "      <td>[' no', '\\n', ' no']</td>\n",
              "      <td>[' body', ' inher', ' body']</td>\n",
              "      <td>no</td>\n",
              "      <td>body</td>\n",
              "      <td>entry</td>\n",
              "    </tr>\n",
              "    <tr>\n",
              "      <th>22</th>\n",
              "      <td>['[FieldObject,NamedElement] =&gt; inherits from'...</td>\n",
              "      <td>drones</td>\n",
              "      <td>[ImmovableObject,FieldObject] =&gt; inherits from</td>\n",
              "      <td>['ImmovableObject,FieldObject']</td>\n",
              "      <td>[' association', ' no', ' inheritance']</td>\n",
              "      <td>[' inher', ' inher', \" ['\"]</td>\n",
              "      <td>association</td>\n",
              "      <td>inherits from</td>\n",
              "      <td>inherits from</td>\n",
              "    </tr>\n",
              "    <tr>\n",
              "      <th>23</th>\n",
              "      <td>['[EmployeeContainer,Employee] =&gt; employees']</td>\n",
              "      <td>Employees</td>\n",
              "      <td>[EmployeeContainer,Employee] =&gt; employees</td>\n",
              "      <td>['EmployeeContainer,Employee']</td>\n",
              "      <td>[' composition', ' composition', ' aggregation']</td>\n",
              "      <td>[' employees', ' contains', ' inher']</td>\n",
              "      <td>composition</td>\n",
              "      <td>employees</td>\n",
              "      <td>employees</td>\n",
              "    </tr>\n",
              "    <tr>\n",
              "      <th>24</th>\n",
              "      <td>['[Member,Family] =&gt; familySon', '[Family,Memb...</td>\n",
              "      <td>Families</td>\n",
              "      <td>[Member,Family] =&gt; familyDaughter</td>\n",
              "      <td>['Member,Family']</td>\n",
              "      <td>[' inheritance', ' association', ' No']</td>\n",
              "      <td>[' family', ' family', ' family']</td>\n",
              "      <td>inherits from</td>\n",
              "      <td>family</td>\n",
              "      <td>familyDaughter</td>\n",
              "    </tr>\n",
              "    <tr>\n",
              "      <th>25</th>\n",
              "      <td>['[Company,NamedElement] =&gt; inherits from', '[...</td>\n",
              "      <td>families</td>\n",
              "      <td>[Member,City] =&gt; livesIn</td>\n",
              "      <td>['Member,City']</td>\n",
              "      <td>[' no', ' no', ' no']</td>\n",
              "      <td>[' city', ' city', ' city']</td>\n",
              "      <td>no</td>\n",
              "      <td>city</td>\n",
              "      <td>livesIn</td>\n",
              "    </tr>\n",
              "    <tr>\n",
              "      <th>26</th>\n",
              "      <td>['[IsLowerThan,BooleanExpression] =&gt; inherits ...</td>\n",
              "      <td>farmbot_modeling</td>\n",
              "      <td>[TurnOnAnalog,SequenceCommand] =&gt; inherits from</td>\n",
              "      <td>['TurnOnAnalog,SequenceCommand']</td>\n",
              "      <td>[\" ['\", ' aggregation', ' no']</td>\n",
              "      <td>[' inher', ' inher', ' inher']</td>\n",
              "      <td>['</td>\n",
              "      <td>inherits from</td>\n",
              "      <td>inherits from</td>\n",
              "    </tr>\n",
              "    <tr>\n",
              "      <th>27</th>\n",
              "      <td>['[Man,Person] =&gt; friend_with', '[Man,Classroo...</td>\n",
              "      <td>Friends</td>\n",
              "      <td>[Classroom,Person] =&gt; person</td>\n",
              "      <td>['Classroom,Person']</td>\n",
              "      <td>[' association', ' association', \" ['\"]</td>\n",
              "      <td>[' student', ' students', ' students']</td>\n",
              "      <td>association</td>\n",
              "      <td>students</td>\n",
              "      <td>person</td>\n",
              "    </tr>\n",
              "    <tr>\n",
              "      <th>28</th>\n",
              "      <td>['[ImplicitSet,Variable] =&gt; variable', '[Call,...</td>\n",
              "      <td>game</td>\n",
              "      <td>[Type,Type] =&gt; parameters</td>\n",
              "      <td>['Type,Type']</td>\n",
              "      <td>[' association', ' association', ' association']</td>\n",
              "      <td>[' is', ' left', ' type']</td>\n",
              "      <td>association</td>\n",
              "      <td>is</td>\n",
              "      <td>parameters</td>\n",
              "    </tr>\n",
              "    <tr>\n",
              "      <th>29</th>\n",
              "      <td>['[Tournament,Game] =&gt; game', '[QualificationP...</td>\n",
              "      <td>gametournament</td>\n",
              "      <td>[Pool,Gamer] =&gt; classment</td>\n",
              "      <td>['Pool,Gamer']</td>\n",
              "      <td>[' no', ' no', ' no']</td>\n",
              "      <td>[' gamers', ' gamers', ' gamers']</td>\n",
              "      <td>no</td>\n",
              "      <td>gamers</td>\n",
              "      <td>classment</td>\n",
              "    </tr>\n",
              "    <tr>\n",
              "      <th>30</th>\n",
              "      <td>['[ServiceEmployee,Appointment] =&gt; appointment...</td>\n",
              "      <td>hairDressersRegSys</td>\n",
              "      <td>[Payment,Invoice] =&gt; invoice</td>\n",
              "      <td>['Payment,Invoice']</td>\n",
              "      <td>[' association', ' association', ' association']</td>\n",
              "      <td>[' invoice', ' invoice', ' invoice']</td>\n",
              "      <td>association</td>\n",
              "      <td>invoice</td>\n",
              "      <td>invoice</td>\n",
              "    </tr>\n",
              "    <tr>\n",
              "      <th>31</th>\n",
              "      <td>['[UoD,Library] =&gt; allLibraries', '[Loan,Perso...</td>\n",
              "      <td>library</td>\n",
              "      <td>[UoD,Person] =&gt; allPersons</td>\n",
              "      <td>['UoD,Person']</td>\n",
              "      <td>[' association', ' association', '\\n']</td>\n",
              "      <td>[' all', ' all', ' all']</td>\n",
              "      <td>association</td>\n",
              "      <td>all</td>\n",
              "      <td>allPersons</td>\n",
              "    </tr>\n",
              "    <tr>\n",
              "      <th>32</th>\n",
              "      <td>['[MoviesDB,Movie] =&gt; movies', '[Movie,Critics...</td>\n",
              "      <td>movies</td>\n",
              "      <td>[Copy,Place] =&gt; place</td>\n",
              "      <td>['Copy,Place']</td>\n",
              "      <td>[' Com', ' composition', '\\n']</td>\n",
              "      <td>[' in', \" '\", \" '\"]</td>\n",
              "      <td>Com</td>\n",
              "      <td>'</td>\n",
              "      <td>place</td>\n",
              "    </tr>\n",
              "    <tr>\n",
              "      <th>33</th>\n",
              "      <td>['[Job,Job] =&gt; BossWorker_Job_role_worker', '[...</td>\n",
              "      <td>PersonCompany</td>\n",
              "      <td>[Job,Job] =&gt; BossWorker_Job_role_boss</td>\n",
              "      <td>['Job,Job']</td>\n",
              "      <td>[' inheritance', ' no', ' inheritance']</td>\n",
              "      <td>[' Boss', ' Boss', ' Boss']</td>\n",
              "      <td>inherits from</td>\n",
              "      <td>Boss</td>\n",
              "      <td>BossWorker_Job_role_boss</td>\n",
              "    </tr>\n",
              "    <tr>\n",
              "      <th>34</th>\n",
              "      <td>['[Clerk,SupportTicketReader] =&gt; supportTicket...</td>\n",
              "      <td>RootElement</td>\n",
              "      <td>[Hotel,HotelSystem] =&gt; inherits from</td>\n",
              "      <td>['Hotel,HotelSystem']</td>\n",
              "      <td>[' composition', ' composition', ' composition']</td>\n",
              "      <td>[' uses', ' uses', ' uses']</td>\n",
              "      <td>composition</td>\n",
              "      <td>uses</td>\n",
              "      <td>inherits from</td>\n",
              "    </tr>\n",
              "    <tr>\n",
              "      <th>35</th>\n",
              "      <td>['[IssueTracker,Product] =&gt; products', '[Team,...</td>\n",
              "      <td>trackit</td>\n",
              "      <td>[Comment,Identifiable] =&gt; inherits from</td>\n",
              "      <td>['Comment,Identifiable']</td>\n",
              "      <td>[' no', ' association', ' association']</td>\n",
              "      <td>[' commented', ' commenting', ' comments']</td>\n",
              "      <td>association</td>\n",
              "      <td>commented</td>\n",
              "      <td>inherits from</td>\n",
              "    </tr>\n",
              "    <tr>\n",
              "      <th>36</th>\n",
              "      <td>['[Waggon,Waggon] =&gt; WaggonOrder_Waggon_role_s...</td>\n",
              "      <td>Train</td>\n",
              "      <td>[Reservation,Waggon] =&gt; ResWaggon_Waggon</td>\n",
              "      <td>['Reservation,Waggon']</td>\n",
              "      <td>[' no', ' no', ' composition']</td>\n",
              "      <td>[' R', ' R', ' R']</td>\n",
              "      <td>no</td>\n",
              "      <td>R</td>\n",
              "      <td>ResWaggon_Waggon</td>\n",
              "    </tr>\n",
              "    <tr>\n",
              "      <th>37</th>\n",
              "      <td>['[AngleUnit,Unit] =&gt; inherits from', '[AngleD...</td>\n",
              "      <td>units</td>\n",
              "      <td>[QuantityScalarOperation,QuantityOperation] =&gt;...</td>\n",
              "      <td>['QuantityScalarOperation,QuantityOperation']</td>\n",
              "      <td>[' inheritance', '\\n', ' no']</td>\n",
              "      <td>[' rh', ' left', ' right']</td>\n",
              "      <td>inherits from</td>\n",
              "      <td>rh</td>\n",
              "      <td>inherits from</td>\n",
              "    </tr>\n",
              "    <tr>\n",
              "      <th>38</th>\n",
              "      <td>['[UnitPower,Unit] =&gt; inherits from', '[UnitLi...</td>\n",
              "      <td>units_pc_av</td>\n",
              "      <td>[PerJoinPointScope,EObject] =&gt; scopedObject</td>\n",
              "      <td>['PerJoinPointScope,EObject']</td>\n",
              "      <td>[' no', '\\n\\n', '\\n\\n']</td>\n",
              "      <td>[' scope', ' children', ' children']</td>\n",
              "      <td>\\n\\n</td>\n",
              "      <td>children</td>\n",
              "      <td>scopedObject</td>\n",
              "    </tr>\n",
              "    <tr>\n",
              "      <th>39</th>\n",
              "      <td>['[University,Course] =&gt; courses', '[Course,St...</td>\n",
              "      <td>university</td>\n",
              "      <td>[Student,Course] =&gt; course</td>\n",
              "      <td>['Student,Course']</td>\n",
              "      <td>[' association', ' association', ' association']</td>\n",
              "      <td>[' enrolled', ' student', ' courses']</td>\n",
              "      <td>association</td>\n",
              "      <td>enrolled</td>\n",
              "      <td>course</td>\n",
              "    </tr>\n",
              "    <tr>\n",
              "      <th>40</th>\n",
              "      <td>['[Battery,EnergySource] =&gt; inherits from', '[...</td>\n",
              "      <td>wsn</td>\n",
              "      <td>[IData,Interface] =&gt; inherits from</td>\n",
              "      <td>['IData,Interface']</td>\n",
              "      <td>[' multiple', ' inheritance', ' inheritance']</td>\n",
              "      <td>[' inher', ' inher', ' inher']</td>\n",
              "      <td>inherits from</td>\n",
              "      <td>inherits from</td>\n",
              "      <td>inherits from</td>\n",
              "    </tr>\n",
              "    <tr>\n",
              "      <th>41</th>\n",
              "      <td>['[Person,ModelElement] =&gt; inherits from', '[P...</td>\n",
              "      <td>UniverityU</td>\n",
              "      <td>[University,aUniversity] =&gt; inherits from</td>\n",
              "      <td>['University,aUniversity']</td>\n",
              "      <td>[' association', ' no', ' association']</td>\n",
              "      <td>[' students', \" ['\", ' students']</td>\n",
              "      <td>association</td>\n",
              "      <td>students</td>\n",
              "      <td>inherits from</td>\n",
              "    </tr>\n",
              "    <tr>\n",
              "      <th>42</th>\n",
              "      <td>['[ModelElement,ModelElement] =&gt; include', '[u...</td>\n",
              "      <td>uncertainty</td>\n",
              "      <td>[uUniversity,UData] =&gt; inherits from</td>\n",
              "      <td>['uUniversity,UData']</td>\n",
              "      <td>[' no', ' association', ' association']</td>\n",
              "      <td>[' uses', ' u', \" '\"]</td>\n",
              "      <td>association</td>\n",
              "      <td>uses</td>\n",
              "      <td>inherits from</td>\n",
              "    </tr>\n",
              "    <tr>\n",
              "      <th>43</th>\n",
              "      <td>['[SocialBar,SocialInformation] =&gt; information...</td>\n",
              "      <td>web</td>\n",
              "      <td>[SocialBar,Content] =&gt; inherits from</td>\n",
              "      <td>['SocialBar,Content']</td>\n",
              "      <td>[\" ['\", \" ['\", \" ['\"]</td>\n",
              "      <td>[' contains', ' inher', ' contains']</td>\n",
              "      <td>['</td>\n",
              "      <td>contains</td>\n",
              "      <td>inherits from</td>\n",
              "    </tr>\n",
              "  </tbody>\n",
              "</table>\n",
              "</div>\n",
              "      <button class=\"colab-df-convert\" onclick=\"convertToInteractive('df-4fd8ee19-24ac-4ded-8d2d-a754d3ed9ecc')\"\n",
              "              title=\"Convert this dataframe to an interactive table.\"\n",
              "              style=\"display:none;\">\n",
              "        \n",
              "  <svg xmlns=\"http://www.w3.org/2000/svg\" height=\"24px\"viewBox=\"0 0 24 24\"\n",
              "       width=\"24px\">\n",
              "    <path d=\"M0 0h24v24H0V0z\" fill=\"none\"/>\n",
              "    <path d=\"M18.56 5.44l.94 2.06.94-2.06 2.06-.94-2.06-.94-.94-2.06-.94 2.06-2.06.94zm-11 1L8.5 8.5l.94-2.06 2.06-.94-2.06-.94L8.5 2.5l-.94 2.06-2.06.94zm10 10l.94 2.06.94-2.06 2.06-.94-2.06-.94-.94-2.06-.94 2.06-2.06.94z\"/><path d=\"M17.41 7.96l-1.37-1.37c-.4-.4-.92-.59-1.43-.59-.52 0-1.04.2-1.43.59L10.3 9.45l-7.72 7.72c-.78.78-.78 2.05 0 2.83L4 21.41c.39.39.9.59 1.41.59.51 0 1.02-.2 1.41-.59l7.78-7.78 2.81-2.81c.8-.78.8-2.07 0-2.86zM5.41 20L4 18.59l7.72-7.72 1.47 1.35L5.41 20z\"/>\n",
              "  </svg>\n",
              "      </button>\n",
              "      \n",
              "  <style>\n",
              "    .colab-df-container {\n",
              "      display:flex;\n",
              "      flex-wrap:wrap;\n",
              "      gap: 12px;\n",
              "    }\n",
              "\n",
              "    .colab-df-convert {\n",
              "      background-color: #E8F0FE;\n",
              "      border: none;\n",
              "      border-radius: 50%;\n",
              "      cursor: pointer;\n",
              "      display: none;\n",
              "      fill: #1967D2;\n",
              "      height: 32px;\n",
              "      padding: 0 0 0 0;\n",
              "      width: 32px;\n",
              "    }\n",
              "\n",
              "    .colab-df-convert:hover {\n",
              "      background-color: #E2EBFA;\n",
              "      box-shadow: 0px 1px 2px rgba(60, 64, 67, 0.3), 0px 1px 3px 1px rgba(60, 64, 67, 0.15);\n",
              "      fill: #174EA6;\n",
              "    }\n",
              "\n",
              "    [theme=dark] .colab-df-convert {\n",
              "      background-color: #3B4455;\n",
              "      fill: #D2E3FC;\n",
              "    }\n",
              "\n",
              "    [theme=dark] .colab-df-convert:hover {\n",
              "      background-color: #434B5C;\n",
              "      box-shadow: 0px 1px 3px 1px rgba(0, 0, 0, 0.15);\n",
              "      filter: drop-shadow(0px 1px 2px rgba(0, 0, 0, 0.3));\n",
              "      fill: #FFFFFF;\n",
              "    }\n",
              "  </style>\n",
              "\n",
              "      <script>\n",
              "        const buttonEl =\n",
              "          document.querySelector('#df-4fd8ee19-24ac-4ded-8d2d-a754d3ed9ecc button.colab-df-convert');\n",
              "        buttonEl.style.display =\n",
              "          google.colab.kernel.accessAllowed ? 'block' : 'none';\n",
              "\n",
              "        async function convertToInteractive(key) {\n",
              "          const element = document.querySelector('#df-4fd8ee19-24ac-4ded-8d2d-a754d3ed9ecc');\n",
              "          const dataTable =\n",
              "            await google.colab.kernel.invokeFunction('convertToInteractive',\n",
              "                                                     [key], {});\n",
              "          if (!dataTable) return;\n",
              "\n",
              "          const docLinkHtml = 'Like what you see? Visit the ' +\n",
              "            '<a target=\"_blank\" href=https://colab.research.google.com/notebooks/data_table.ipynb>data table notebook</a>'\n",
              "            + ' to learn more about interactive tables.';\n",
              "          element.innerHTML = '';\n",
              "          dataTable['output_type'] = 'display_data';\n",
              "          await google.colab.output.renderOutput(dataTable, element);\n",
              "          const docLink = document.createElement('div');\n",
              "          docLink.innerHTML = docLinkHtml;\n",
              "          element.appendChild(docLink);\n",
              "        }\n",
              "      </script>\n",
              "    </div>\n",
              "  </div>\n",
              "  "
            ]
          },
          "metadata": {},
          "execution_count": 92
        }
      ]
    },
    {
      "cell_type": "code",
      "source": [
        "dataframe.to_csv(\"gdrive/My Drive/NIER-ICSE/data/test/newAssociationResults.csv\")"
      ],
      "metadata": {
        "id": "YoT-38GkWJ03"
      },
      "execution_count": null,
      "outputs": []
    },
    {
      "cell_type": "code",
      "source": [
        "dataframe=pd.read_csv(\"gdrive/My Drive/NIER-ICSE/data/test/AssociationResults.csv\")"
      ],
      "metadata": {
        "id": "ssLTVcD-Wncm"
      },
      "execution_count": null,
      "outputs": []
    }
  ]
}